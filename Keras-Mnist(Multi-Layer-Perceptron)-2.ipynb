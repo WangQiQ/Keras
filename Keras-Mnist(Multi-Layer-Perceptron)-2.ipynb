{
 "cells": [
  {
   "cell_type": "markdown",
   "metadata": {},
   "source": [
    "# 建立多层感知器模型包含两个隐藏层"
   ]
  },
  {
   "cell_type": "markdown",
   "metadata": {},
   "source": [
    "## 1.加入两个隐藏层并且加入 DropOut 功能"
   ]
  },
  {
   "cell_type": "code",
   "execution_count": 3,
   "metadata": {},
   "outputs": [
    {
     "name": "stderr",
     "output_type": "stream",
     "text": [
      "Using TensorFlow backend.\n"
     ]
    }
   ],
   "source": [
    "from keras.utils import np_utils\n",
    "import numpy as np\n",
    "np.random.seed(10)\n",
    "from keras.datasets import mnist\n",
    "\n",
    "from keras.datasets import mnist\n",
    "(x_train_image,y_train_label),\\\n",
    "(x_test_image,y_test_label) = mnist.load_data()\n",
    "\n",
    "x_Train = x_train_image.reshape(60000,784).astype('float32')\n",
    "x_Test = x_test_image.reshape(10000,784).astype('float32')\n",
    "\n",
    "x_Train_normalize = x_Train/255\n",
    "x_Test_normalize = x_Test/255\n",
    "\n",
    "y_Train_OneHot = np_utils.to_categorical(y_train_label)\n",
    "y_Test_OneHot = np_utils.to_categorical(y_test_label)\n",
    "\n",
    "from keras.models import Sequential\n",
    "from keras.layers import Dense\n",
    "from keras.layers import Dropout"
   ]
  },
  {
   "cell_type": "markdown",
   "metadata": {},
   "source": [
    "#### 建立模型"
   ]
  },
  {
   "cell_type": "code",
   "execution_count": 4,
   "metadata": {},
   "outputs": [],
   "source": [
    "model = Sequential()"
   ]
  },
  {
   "cell_type": "markdown",
   "metadata": {},
   "source": [
    "#### 加入“输入层”与“隐藏层 1”"
   ]
  },
  {
   "cell_type": "code",
   "execution_count": 5,
   "metadata": {},
   "outputs": [],
   "source": [
    "model.add(Dense(units = 1000,    # 定义“隐藏层”神经元个数为1000\n",
    "               input_dim = 784, # 设置“输入层”神经元个数为784 \n",
    "               kernel_initializer = 'normal', # 使用 normal distribution 正态分布的随机数来初始化weight（权重）与bias（偏差）\n",
    "               activation = 'relu' # 定义激活函数为relu\n",
    "               ))"
   ]
  },
  {
   "cell_type": "code",
   "execution_count": 6,
   "metadata": {},
   "outputs": [],
   "source": [
    "model.add(Dropout(0.5))"
   ]
  },
  {
   "cell_type": "markdown",
   "metadata": {},
   "source": [
    "#### 加入“隐藏层 2”"
   ]
  },
  {
   "cell_type": "code",
   "execution_count": 7,
   "metadata": {},
   "outputs": [],
   "source": [
    "model.add(Dense(units = 1000,    # 定义“隐藏层”神经元个数为1000\n",
    "               kernel_initializer = 'normal', # 使用 normal distribution 正态分布的随机数来初始化weight（权重）与bias（偏差）\n",
    "               activation = 'relu' # 定义激活函数为relu\n",
    "               ))"
   ]
  },
  {
   "cell_type": "code",
   "execution_count": 8,
   "metadata": {},
   "outputs": [],
   "source": [
    "model.add(Dropout(0.5))"
   ]
  },
  {
   "cell_type": "markdown",
   "metadata": {},
   "source": [
    "#### 加入“输出层”"
   ]
  },
  {
   "cell_type": "code",
   "execution_count": 9,
   "metadata": {},
   "outputs": [],
   "source": [
    "model.add(Dense(units = 10, # 定义“输出层”神经元个数为10\n",
    "                kernel_initializer = 'normal',# 使用 normal distribution 正态分布的随机数来初始化weight（权重）与bias（偏差）\n",
    "                activation = 'softmax' # 定义激活函数为 softmax\n",
    "               ))"
   ]
  },
  {
   "cell_type": "markdown",
   "metadata": {},
   "source": [
    "## 2.查看模型的摘要"
   ]
  },
  {
   "cell_type": "code",
   "execution_count": 10,
   "metadata": {},
   "outputs": [
    {
     "name": "stdout",
     "output_type": "stream",
     "text": [
      "_________________________________________________________________\n",
      "Layer (type)                 Output Shape              Param #   \n",
      "=================================================================\n",
      "dense_1 (Dense)              (None, 1000)              785000    \n",
      "_________________________________________________________________\n",
      "dropout_1 (Dropout)          (None, 1000)              0         \n",
      "_________________________________________________________________\n",
      "dense_2 (Dense)              (None, 1000)              1001000   \n",
      "_________________________________________________________________\n",
      "dropout_2 (Dropout)          (None, 1000)              0         \n",
      "_________________________________________________________________\n",
      "dense_3 (Dense)              (None, 10)                10010     \n",
      "=================================================================\n",
      "Total params: 1,796,010\n",
      "Trainable params: 1,796,010\n",
      "Non-trainable params: 0\n",
      "_________________________________________________________________\n",
      "None\n"
     ]
    }
   ],
   "source": [
    "print(model.summary())"
   ]
  },
  {
   "cell_type": "markdown",
   "metadata": {},
   "source": [
    "## 3.查看训练过程的准确率"
   ]
  },
  {
   "cell_type": "code",
   "execution_count": 11,
   "metadata": {},
   "outputs": [
    {
     "name": "stdout",
     "output_type": "stream",
     "text": [
      "Train on 48000 samples, validate on 12000 samples\n",
      "Epoch 1/10\n",
      " - 18s - loss: 0.3672 - acc: 0.8856 - val_loss: 0.1359 - val_acc: 0.9597\n",
      "Epoch 2/10\n",
      " - 17s - loss: 0.1591 - acc: 0.9522 - val_loss: 0.0982 - val_acc: 0.9703\n",
      "Epoch 3/10\n",
      " - 17s - loss: 0.1163 - acc: 0.9638 - val_loss: 0.0860 - val_acc: 0.9732\n",
      "Epoch 4/10\n",
      " - 17s - loss: 0.0963 - acc: 0.9702 - val_loss: 0.0844 - val_acc: 0.9742\n",
      "Epoch 5/10\n",
      " - 17s - loss: 0.0854 - acc: 0.9731 - val_loss: 0.0843 - val_acc: 0.9758\n",
      "Epoch 6/10\n",
      " - 17s - loss: 0.0761 - acc: 0.9759 - val_loss: 0.0785 - val_acc: 0.9770\n",
      "Epoch 7/10\n",
      " - 17s - loss: 0.0643 - acc: 0.9789 - val_loss: 0.0753 - val_acc: 0.9787\n",
      "Epoch 8/10\n",
      " - 17s - loss: 0.0604 - acc: 0.9806 - val_loss: 0.0834 - val_acc: 0.9774\n",
      "Epoch 9/10\n",
      " - 17s - loss: 0.0570 - acc: 0.9818 - val_loss: 0.0742 - val_acc: 0.9797\n",
      "Epoch 10/10\n",
      " - 17s - loss: 0.0525 - acc: 0.9828 - val_loss: 0.0763 - val_acc: 0.9790\n"
     ]
    },
    {
     "data": {
      "image/png": "[encoded data removed]",
      "text/plain": [
       "<Figure size 432x288 with 1 Axes>"
      ]
     },
     "metadata": {},
     "output_type": "display_data"
    }
   ],
   "source": [
    "model.compile(loss = 'categorical_crossentropy',\n",
    "              optimizer = 'adam',metrics = ['accuracy'])\n",
    "\n",
    "train_history = model.fit(x = x_Train_normalize,\n",
    "                          y = y_Train_OneHot,validation_split = 0.2,\n",
    "                          epochs = 10,batch_size = 200,verbose = 2)\n",
    "\n",
    "%matplotlib inline \n",
    "# 设置matplotlib 在jupyter note 网页内显示图形，如果少了这一指令，就会另打开一个窗口显示图形。\n",
    "import matplotlib.pyplot as plt\n",
    "def show_train_history(train_history,\n",
    "                      train, # 训练数据的执行结果\n",
    "                      validation # 验证数据的执行结果\n",
    "                      ):\n",
    "    plt.plot(train_history.history[train])\n",
    "    plt.plot(train_history.history[validation])\n",
    "    plt.title('Train History') # 显示图的标题\n",
    "    plt.ylabel(train) # 显示y轴的标签\n",
    "    plt.xlabel('Epoch') # 设置x轴的标签是‘Epoch’\n",
    "    plt.legend(['train','validation'],loc='upper left') # 设置图例是显示'train''validation'，位置在左上角\n",
    "    plt.show()\n",
    "\n",
    "show_train_history(train_history,'acc','val_acc')"
   ]
  },
  {
   "cell_type": "markdown",
   "metadata": {},
   "source": [
    "### a.无论是训练还是验证，准确率都越来越高 \n",
    "### b.在epoch训练后期，“acc训练的准确率”比“val_acc验证的准确率”高。但是“训练的准确率”与“验证的准确率”差距变小，这代表已经大致解决了过度拟合的问题。"
   ]
  },
  {
   "cell_type": "markdown",
   "metadata": {},
   "source": [
    "## 4.查看准确率"
   ]
  },
  {
   "cell_type": "code",
   "execution_count": 13,
   "metadata": {},
   "outputs": [
    {
     "name": "stdout",
     "output_type": "stream",
     "text": [
      "10000/10000 [==============================] - 1s 146us/step\n",
      "\n",
      "accuracy= 0.9808\n"
     ]
    }
   ],
   "source": [
    "scores = model.evaluate( # 使用 model.evaluate 评估模型的准确率，评估后的准确率会存储在scores中。\n",
    "    x_Test_normalize, # 测试数据的features（数字图像的特征值）\n",
    "    y_Test_OneHot # 测试数据的label（数字图像真实的值）\n",
    ")\n",
    "print()\n",
    "print('accuracy=',scores[1]) # 显示准确率"
   ]
  },
  {
   "cell_type": "markdown",
   "metadata": {},
   "source": [
    "从以上执行结果可知准确率是0.9797，准确率并没有显著提升。"
   ]
  }
 ],
 "metadata": {
  "kernelspec": {
   "display_name": "Python 3",
   "language": "python",
   "name": "python3"
  },
  "language_info": {
   "codemirror_mode": {
    "name": "ipython",
    "version": 3
   },
   "file_extension": ".py",
   "mimetype": "text/x-python",
   "name": "python",
   "nbconvert_exporter": "python",
   "pygments_lexer": "ipython3",
   "version": "3.5.5"
  }
 },
 "nbformat": 4,
 "nbformat_minor": 2
}
