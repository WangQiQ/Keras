{
 "cells": [
  {
   "cell_type": "markdown",
   "metadata": {},
   "source": [
    "# 1.多层感知器加入 Dropout 功能以避免过度拟合\n",
    "为了解决过度拟合的问题，我们在隐藏层增加到1000个神经元并且加入 DropOut 功能。"
   ]
  },
  {
   "cell_type": "code",
   "execution_count": 1,
   "metadata": {},
   "outputs": [
    {
     "name": "stderr",
     "output_type": "stream",
     "text": [
      "Using TensorFlow backend.\n"
     ]
    }
   ],
   "source": [
    "from keras.utils import np_utils\n",
    "import numpy as np\n",
    "np.random.seed(10)from keras.datasets import mnist"
   ]
  },
  {
   "cell_type": "code",
   "execution_count": 3,
   "metadata": {},
   "outputs": [],
   "source": [
    "from keras.datasets import mnist\n",
    "(x_train_image,y_train_label),\\\n",
    "(x_test_image,y_test_label) = mnist.load_data()"
   ]
  },
  {
   "cell_type": "code",
   "execution_count": 4,
   "metadata": {},
   "outputs": [],
   "source": [
    "x_Train = x_train_image.reshape(60000,784).astype('float32')\n",
    "x_Test = x_test_image.reshape(10000,784).astype('float32')"
   ]
  },
  {
   "cell_type": "code",
   "execution_count": 5,
   "metadata": {},
   "outputs": [],
   "source": [
    "x_Train_normalize = x_Train/255\n",
    "x_Test_normalize = x_Test/255"
   ]
  },
  {
   "cell_type": "code",
   "execution_count": 6,
   "metadata": {},
   "outputs": [],
   "source": [
    "y_Train_OneHot = np_utils.to_categorical(y_train_label)\n",
    "y_Test_OneHot = np_utils.to_categorical(y_test_label)"
   ]
  },
  {
   "cell_type": "markdown",
   "metadata": {},
   "source": [
    "#### 修改隐藏层加入 DropOut 功能 "
   ]
  },
  {
   "cell_type": "code",
   "execution_count": 8,
   "metadata": {},
   "outputs": [],
   "source": [
    "from keras.models import Sequential\n",
    "from keras.layers import Dense\n",
    "from keras.layers import Dropout"
   ]
  },
  {
   "cell_type": "code",
   "execution_count": 9,
   "metadata": {},
   "outputs": [],
   "source": [
    "model = Sequential()\n",
    "model.add(Dense(units = 1000,    # 定义“隐藏层”神经元个数为1000\n",
    "               input_dim = 784, # 设置“输入层”神经元个数为784 \n",
    "               kernel_initializer = 'normal', # 使用 normal distribution 正态分布的随机数来初始化weight（权重）与bias（偏差）\n",
    "               activation = 'relu' # 定义激活函数为relu\n",
    "               ))"
   ]
  },
  {
   "cell_type": "code",
   "execution_count": 10,
   "metadata": {},
   "outputs": [],
   "source": [
    "model.add(Dropout(0.5))"
   ]
  },
  {
   "cell_type": "code",
   "execution_count": 11,
   "metadata": {},
   "outputs": [],
   "source": [
    "model.add(Dense(units = 10, # 定义“输出层”神经元个数为10\n",
    "                kernel_initializer = 'normal',# 使用 normal distribution 正态分布的随机数来初始化weight（权重）与bias（偏差）\n",
    "                activation = 'softmax' # 定义激活函数为 softmax\n",
    "               ))"
   ]
  },
  {
   "cell_type": "markdown",
   "metadata": {},
   "source": [
    "#### 查看模型的摘要"
   ]
  },
  {
   "cell_type": "code",
   "execution_count": 12,
   "metadata": {},
   "outputs": [
    {
     "name": "stdout",
     "output_type": "stream",
     "text": [
      "_________________________________________________________________\n",
      "Layer (type)                 Output Shape              Param #   \n",
      "=================================================================\n",
      "dense_1 (Dense)              (None, 1000)              785000    \n",
      "_________________________________________________________________\n",
      "dropout_1 (Dropout)          (None, 1000)              0         \n",
      "_________________________________________________________________\n",
      "dense_2 (Dense)              (None, 10)                10010     \n",
      "=================================================================\n",
      "Total params: 795,010\n",
      "Trainable params: 795,010\n",
      "Non-trainable params: 0\n",
      "_________________________________________________________________\n",
      "None\n"
     ]
    }
   ],
   "source": [
    "print(model.summary())"
   ]
  },
  {
   "cell_type": "code",
   "execution_count": 13,
   "metadata": {},
   "outputs": [],
   "source": [
    "model.compile(loss = 'categorical_crossentropy',\n",
    "              optimizer = 'adam',metrics = ['accuracy'])"
   ]
  },
  {
   "cell_type": "markdown",
   "metadata": {},
   "source": [
    "#### 查看训练过程的准确率"
   ]
  },
  {
   "cell_type": "code",
   "execution_count": 14,
   "metadata": {},
   "outputs": [
    {
     "name": "stdout",
     "output_type": "stream",
     "text": [
      "Train on 48000 samples, validate on 12000 samples\n",
      "Epoch 1/10\n",
      " - 7s - loss: 0.3566 - acc: 0.8937 - val_loss: 0.1625 - val_acc: 0.9544\n",
      "Epoch 2/10\n",
      " - 6s - loss: 0.1604 - acc: 0.9535 - val_loss: 0.1171 - val_acc: 0.9654\n",
      "Epoch 3/10\n",
      " - 6s - loss: 0.1166 - acc: 0.9650 - val_loss: 0.0987 - val_acc: 0.9713\n",
      "Epoch 4/10\n",
      " - 6s - loss: 0.0927 - acc: 0.9718 - val_loss: 0.0919 - val_acc: 0.9721\n",
      "Epoch 5/10\n",
      " - 6s - loss: 0.0756 - acc: 0.9770 - val_loss: 0.0818 - val_acc: 0.9762\n",
      "Epoch 6/10\n",
      " - 6s - loss: 0.0623 - acc: 0.9804 - val_loss: 0.0760 - val_acc: 0.9767\n",
      "Epoch 7/10\n",
      " - 6s - loss: 0.0539 - acc: 0.9839 - val_loss: 0.0769 - val_acc: 0.9770\n",
      "Epoch 8/10\n",
      " - 6s - loss: 0.0494 - acc: 0.9847 - val_loss: 0.0737 - val_acc: 0.9783\n",
      "Epoch 9/10\n",
      " - 6s - loss: 0.0431 - acc: 0.9864 - val_loss: 0.0699 - val_acc: 0.9795\n",
      "Epoch 10/10\n",
      " - 6s - loss: 0.0383 - acc: 0.9882 - val_loss: 0.0674 - val_acc: 0.9801\n"
     ]
    }
   ],
   "source": [
    "train_history = model.fit(x = x_Train_normalize,\n",
    "                          y = y_Train_OneHot,validation_split = 0.2,\n",
    "                          epochs = 10,batch_size = 200,verbose = 2)"
   ]
  },
  {
   "cell_type": "markdown",
   "metadata": {},
   "source": [
    "由上图可知，“acc 训练的准确率”与“val_acc 验证的准确率”差距很小，代表已经改善了过度拟合的问题。"
   ]
  },
  {
   "cell_type": "markdown",
   "metadata": {},
   "source": [
    "#### 图示训练过程的准确率"
   ]
  },
  {
   "cell_type": "code",
   "execution_count": 15,
   "metadata": {},
   "outputs": [
    {
     "data": {
      "image/png": "[encoded data removed]",
      "text/plain": [
       "<Figure size 432x288 with 1 Axes>"
      ]
     },
     "metadata": {},
     "output_type": "display_data"
    }
   ],
   "source": [
    "%matplotlib inline \n",
    "# 设置matplotlib 在jupyter note 网页内显示图形，如果少了这一指令，就会另打开一个窗口显示图形。\n",
    "import matplotlib.pyplot as plt\n",
    "def show_train_history(train_history,\n",
    "                      train, # 训练数据的执行结果\n",
    "                      validation # 验证数据的执行结果\n",
    "                      ):\n",
    "    plt.plot(train_history.history[train])\n",
    "    plt.plot(train_history.history[validation])\n",
    "    plt.title('Train History') # 显示图的标题\n",
    "    plt.ylabel(train) # 显示y轴的标签\n",
    "    plt.xlabel('Epoch') # 设置x轴的标签是‘Epoch’\n",
    "    plt.legend(['train','validation'],loc='upper left') # 设置图例是显示'train''validation'，位置在左上角\n",
    "    plt.show()\n",
    "\n",
    "show_train_history(train_history,'acc','val_acc')"
   ]
  },
  {
   "cell_type": "markdown",
   "metadata": {},
   "source": [
    "“训练的准确率”与“验证的准确率”差距变小，过度拟合的程度已经减轻。"
   ]
  },
  {
   "cell_type": "markdown",
   "metadata": {},
   "source": [
    "#### 查看准确率"
   ]
  },
  {
   "cell_type": "code",
   "execution_count": 16,
   "metadata": {},
   "outputs": [
    {
     "name": "stdout",
     "output_type": "stream",
     "text": [
      "10000/10000 [==============================] - 1s 66us/step\n",
      "\n",
      "accuracy= 0.9808\n"
     ]
    }
   ],
   "source": [
    "scores = model.evaluate( # 使用 model.evaluate 评估模型的准确率，评估后的准确率会存储在scores中。\n",
    "    x_Test_normalize, # 测试数据的features（数字图像的特征值）\n",
    "    y_Test_OneHot # 测试数据的label（数字图像真实的值）\n",
    ")\n",
    "print()\n",
    "print('accuracy=',scores[1]) # 显示准确率"
   ]
  },
  {
   "cell_type": "markdown",
   "metadata": {},
   "source": [
    "从以上执行结果可知准确率是 0.98 。比之前未加入 DropOut 时还高，这代表加入了DropOut 不但可以解决过度拟合的问题，还可以增加准确率。"
   ]
  }
 ],
 "metadata": {
  "kernelspec": {
   "display_name": "Python 3",
   "language": "python",
   "name": "python3"
  },
  "language_info": {
   "codemirror_mode": {
    "name": "ipython",
    "version": 3
   },
   "file_extension": ".py",
   "mimetype": "text/x-python",
   "name": "python",
   "nbconvert_exporter": "python",
   "pygments_lexer": "ipython3",
   "version": "3.5.5"
  }
 },
 "nbformat": 4,
 "nbformat_minor": 2
}
